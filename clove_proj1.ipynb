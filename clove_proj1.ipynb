{
 "cells": [
  {
   "cell_type": "code",
   "execution_count": 3,
   "id": "90d83fb7",
   "metadata": {},
   "outputs": [],
   "source": [
    "import pandas as pd\n",
    "import requests\n",
    "import hvplot.pandas\n",
    "from scipy.stats import linregress\n",
    "from matplotlib import pyplot as plt\n",
    "from config import eia_api_key\n",
    "from config import openweather_api_key\n",
    "\n",
    "elec_key = eia_api_key\n",
    "weather_key = openweather_api_key"
   ]
  },
  {
   "cell_type": "code",
   "execution_count": null,
   "id": "06c0a142",
   "metadata": {},
   "outputs": [],
   "source": []
  }
 ],
 "metadata": {
  "kernelspec": {
   "display_name": "PythonData",
   "language": "python",
   "name": "pythondata"
  },
  "language_info": {
   "codemirror_mode": {
    "name": "ipython",
    "version": 3
   },
   "file_extension": ".py",
   "mimetype": "text/x-python",
   "name": "python",
   "nbconvert_exporter": "python",
   "pygments_lexer": "ipython3",
   "version": "3.7.13"
  }
 },
 "nbformat": 4,
 "nbformat_minor": 5
}
