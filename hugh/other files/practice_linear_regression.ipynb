{
 "cells": [
  {
   "cell_type": "code",
   "execution_count": null,
   "id": "1bcf02e3",
   "metadata": {},
   "outputs": [],
   "source": [
    "#This is where I will do the part of the program that does the linear regression\n"
   ]
  },
  {
   "cell_type": "code",
   "execution_count": 8,
   "id": "a0cfc410",
   "metadata": {},
   "outputs": [],
   "source": [
    "# Dependencies\n",
    "import requests\n",
    "import json\n",
    "import pandas as pd\n",
    "import numpy as np\n",
    "\n",
    "from matplotlib import pyplot as plt\n",
    "from matplotlib.pyplot import figure\n",
    "from pandas import DataFrame, Series\n",
    "\n",
    "\n",
    "import seaborn as sns\n",
    "\n",
    "from sklearn import datasets, linear_model\n",
    "from sklearn.linear_model import LinearRegression\n",
    "from sklearn.metrics import mean_squared_error, r2_score"
   ]
  },
  {
   "cell_type": "code",
   "execution_count": 9,
   "id": "e8fcf98b",
   "metadata": {},
   "outputs": [
    {
     "data": {
      "text/html": [
       "<div>\n",
       "<style scoped>\n",
       "    .dataframe tbody tr th:only-of-type {\n",
       "        vertical-align: middle;\n",
       "    }\n",
       "\n",
       "    .dataframe tbody tr th {\n",
       "        vertical-align: top;\n",
       "    }\n",
       "\n",
       "    .dataframe thead th {\n",
       "        text-align: right;\n",
       "    }\n",
       "</style>\n",
       "<table border=\"1\" class=\"dataframe\">\n",
       "  <thead>\n",
       "    <tr style=\"text-align: right;\">\n",
       "      <th></th>\n",
       "      <th>state</th>\n",
       "      <th>estcp</th>\n",
       "      <th>population</th>\n",
       "      <th>kwh_per_capita</th>\n",
       "      <th>temp</th>\n",
       "    </tr>\n",
       "  </thead>\n",
       "  <tbody>\n",
       "    <tr>\n",
       "      <th>0</th>\n",
       "      <td>.Alabama</td>\n",
       "      <td>85585</td>\n",
       "      <td>5049846</td>\n",
       "      <td>16948</td>\n",
       "      <td>62.8</td>\n",
       "    </tr>\n",
       "    <tr>\n",
       "      <th>1</th>\n",
       "      <td>.Alaska</td>\n",
       "      <td>5969</td>\n",
       "      <td>734182</td>\n",
       "      <td>8130</td>\n",
       "      <td>26.6</td>\n",
       "    </tr>\n",
       "    <tr>\n",
       "      <th>2</th>\n",
       "      <td>.Arizona</td>\n",
       "      <td>81220</td>\n",
       "      <td>7264877</td>\n",
       "      <td>11180</td>\n",
       "      <td>60.3</td>\n",
       "    </tr>\n",
       "    <tr>\n",
       "      <th>3</th>\n",
       "      <td>.Arkansas</td>\n",
       "      <td>48663</td>\n",
       "      <td>3028122</td>\n",
       "      <td>16070</td>\n",
       "      <td>60.4</td>\n",
       "    </tr>\n",
       "    <tr>\n",
       "      <th>4</th>\n",
       "      <td>.California</td>\n",
       "      <td>247250</td>\n",
       "      <td>39142991</td>\n",
       "      <td>6317</td>\n",
       "      <td>59.4</td>\n",
       "    </tr>\n",
       "  </tbody>\n",
       "</table>\n",
       "</div>"
      ],
      "text/plain": [
       "         state   estcp  population  kwh_per_capita  temp\n",
       "0     .Alabama   85585     5049846           16948  62.8\n",
       "1      .Alaska    5969      734182            8130  26.6\n",
       "2     .Arizona   81220     7264877           11180  60.3\n",
       "3    .Arkansas   48663     3028122           16070  60.4\n",
       "4  .California  247250    39142991            6317  59.4"
      ]
     },
     "execution_count": 9,
     "metadata": {},
     "output_type": "execute_result"
    }
   ],
   "source": [
    "#Now import a .csv file into a new dataframe called \n",
    "#pcec_v_temp_by_state_2021 \n",
    "#It will contain the following columns, all data from 2021:\n",
    "#state \n",
    "#estcp (electricity consumption based on retail sales of utilities)\n",
    "#population \n",
    "#kwh_per_capita\n",
    "#temp\n",
    "\n",
    "pcec_v_temp_by_state_2021 = pd.read_csv('consumption_per_capita_v_temp.csv')\n",
    "pcec_v_temp_by_state_2021.head()"
   ]
  },
  {
   "cell_type": "code",
   "execution_count": 10,
   "id": "2ab2ffac",
   "metadata": {},
   "outputs": [],
   "source": [
    "#Designate the variables\n",
    "#independent variable:\n",
    "X = pcec_v_temp_by_state_2021.iloc[:,4].values.reshape(-1,1)\n",
    "#dependent variable:\n",
    "y = pcec_v_temp_by_state_2021.iloc[:,3].values.reshape(-1,1)"
   ]
  },
  {
   "cell_type": "code",
   "execution_count": 11,
   "id": "e879f962",
   "metadata": {},
   "outputs": [],
   "source": [
    "#Fit the linear regression model\n",
    "reg = LinearRegression().fit(X,y)"
   ]
  },
  {
   "cell_type": "code",
   "execution_count": 12,
   "id": "cce437e0",
   "metadata": {},
   "outputs": [],
   "source": [
    "#Get the coefficients\n",
    "coef = reg.coef_\n",
    "intercept = reg.intercept_"
   ]
  },
  {
   "cell_type": "code",
   "execution_count": 13,
   "id": "ed633c3c",
   "metadata": {},
   "outputs": [],
   "source": [
    "#Predict using the model\n",
    "y_pred = reg.predict(X)"
   ]
  },
  {
   "cell_type": "code",
   "execution_count": 14,
   "id": "4a137fdb",
   "metadata": {},
   "outputs": [],
   "source": [
    "#Get mean squared error\n",
    "mse = mean_squared_error(y, y_pred)"
   ]
  },
  {
   "cell_type": "code",
   "execution_count": 16,
   "id": "f6965072",
   "metadata": {},
   "outputs": [],
   "source": [
    "#Get coeffecient of determination\n",
    "r2 = r2_score(y, y_pred)"
   ]
  },
  {
   "cell_type": "code",
   "execution_count": 17,
   "id": "24fbe0d9",
   "metadata": {
    "scrolled": true
   },
   "outputs": [
    {
     "name": "stdout",
     "output_type": "stream",
     "text": [
      "Coefficients: \n",
      " [[35.79301889]]\n",
      "Intercept: \n",
      " [10899.2705898]\n",
      "Mean squared error:  20351690.364511065\n",
      "Coefficent of determination (R-squared):  0.004559567307992118\n"
     ]
    }
   ],
   "source": [
    "#Print the outputs\n",
    "print(\"Coefficients: \\n\",coef)\n",
    "print(\"Intercept: \\n\",intercept)\n",
    "print(\"Mean squared error: \", mse)\n",
    "print(\"Coefficent of determination (R-squared): \",r2)"
   ]
  },
  {
   "cell_type": "code",
   "execution_count": 18,
   "id": "a82b9509",
   "metadata": {},
   "outputs": [
    {
     "data": {
      "text/plain": [
       "<AxesSubplot:xlabel='temp', ylabel='kwh_per_capita'>"
      ]
     },
     "execution_count": 18,
     "metadata": {},
     "output_type": "execute_result"
    },
    {
     "data": {
      "image/png": "[encoded data removed]",
      "text/plain": [
       "<Figure size 640x480 with 1 Axes>"
      ]
     },
     "metadata": {},
     "output_type": "display_data"
    }
   ],
   "source": [
    "#Trying to do a scatter plot and line of best fit\n",
    "#using the seaborn as sns library\n",
    "sns.regplot(x=\"temp\", y=\"kwh_per_capita\", data=pcec_v_temp_by_state_2021)"
   ]
  },
  {
   "cell_type": "code",
   "execution_count": null,
   "id": "8faaf584",
   "metadata": {},
   "outputs": [],
   "source": []
  }
 ],
 "metadata": {
  "kernelspec": {
   "display_name": "PythonData",
   "language": "python",
   "name": "pythondata"
  },
  "language_info": {
   "codemirror_mode": {
    "name": "ipython",
    "version": 3
   },
   "file_extension": ".py",
   "mimetype": "text/x-python",
   "name": "python",
   "nbconvert_exporter": "python",
   "pygments_lexer": "ipython3",
   "version": "3.7.13"
  }
 },
 "nbformat": 4,
 "nbformat_minor": 5
}
