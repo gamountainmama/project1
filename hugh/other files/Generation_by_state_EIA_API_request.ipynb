{
 "cells": [
  {
   "cell_type": "code",
   "execution_count": null,
   "metadata": {
    "id": "xeSGVRF2mOpr"
   },
   "outputs": [],
   "source": [
    "# Dependencies\n",
    "import requests\n",
    "import json\n",
    "import pandas as pd\n",
    "import pprint\n",
    "from config import eia_api_key_hugh"
   ]
  },
  {
   "cell_type": "markdown",
   "metadata": {
    "id": "T0upyp8PvD2X"
   },
   "source": [
    "This API request is to the EIA and is for Utility Scale Electric Net Generation in all 50 US states and the country as a whole in 2021 \n",
    "\n",
    "The explanation of this dataset is here: https://docs.google.com/document/d/1Z_D4dOF02FdVmX_xDbjvxxdylhZ1SOY-0h01W5rSghg/edit#\n",
    "\n"
   ]
  },
  {
   "cell_type": "code",
   "execution_count": null,
   "metadata": {
    "id": "I7nzCo9quVSJ"
   },
   "outputs": [],
   "source": [
    "#Designate base url\n",
    "base_url = \"https://api.eia.gov/v2/electricity/electric-power-operational-data/data/\""
   ]
  },
  {
   "cell_type": "code",
   "execution_count": null,
   "metadata": {
    "id": "kHw0TOehudKR"
   },
   "outputs": [],
   "source": [
    "#Note the parameter syntax, including placement of quotes, colons and commas\n",
    "#The final comma, in the length row, is intentional in order to accomodate\n",
    "#additional parameters in the future.\n",
    "#The first parameter is my personal API key for EIA's API.\n",
    "\n",
    "parameters = {\n",
    "    \"api_key\": eia_api_key_hugh,\n",
    "    \"frequency\": \"annual\",\n",
    "    \"data[0]\": \"generation\",\n",
    "    \"facets[location][]\": [\n",
    "    \"AK\",\n",
    "    \"AL\",\n",
    "    \"AR\",\n",
    "    \"AZ\",\n",
    "    \"CA\",\n",
    "    \"CO\",\n",
    "    \"CT\",\n",
    "    \"DE\",\n",
    "    \"FL\",\n",
    "    \"GA\",\n",
    "    \"HI\",\n",
    "    \"IA\",\n",
    "    \"ID\",\n",
    "    \"IL\",\n",
    "    \"IN\",\n",
    "    \"KS\",\n",
    "    \"KY\",\n",
    "    \"LA\",\n",
    "    \"MA\",\n",
    "    \"MD\",\n",
    "    \"ME\",\n",
    "    \"MI\",\n",
    "    \"MN\",\n",
    "    \"MO\",\n",
    "    \"MS\",\n",
    "    \"MT\",\n",
    "    \"NC\",\n",
    "    \"ND\",\n",
    "    \"NE\",\n",
    "    \"NH\",\n",
    "    \"NJ\",\n",
    "    \"NM\",\n",
    "    \"NV\",\n",
    "    \"NY\",\n",
    "    \"OH\",\n",
    "    \"OK\",\n",
    "    \"OR\",\n",
    "    \"PA\",\n",
    "    \"RI\",\n",
    "    \"SC\",\n",
    "    \"SD\",\n",
    "    \"TN\",\n",
    "    \"TX\",\n",
    "    \"US\",\n",
    "    \"UT\",\n",
    "    \"VA\",\n",
    "    \"VT\",\n",
    "    \"WA\",\n",
    "    \"WI\",\n",
    "    \"WV\",\n",
    "    \"WY\",\n",
    "    ],\n",
    "    \"facets[sectorid][]\": [\"99\"],\n",
    "    \"facets[fueltypeid][]\": [\"ALL\"],\n",
    "    \"start\": \"2021\",\n",
    "    \"end\": \"2021\",\n",
    "    \"sort[0][column]\": \"period\",\n",
    "    \"sort[0][direction]\": \"asc\",\n",
    "    \"offset\": \"0\",\n",
    "    \"length\": \"5000\",\n",
    "}"
   ]
  },
  {
   "cell_type": "code",
   "execution_count": null,
   "metadata": {
    "id": "1IrxUQAamsns"
   },
   "outputs": [],
   "source": [
    "# Performing a GET Request and saving the \n",
    "# API's response within a variable.\n",
    "#params is one of the parameters in the response.get method and refers\n",
    "#to the API parameters, although params is itself a parameter for the response.get method.\n",
    "\n",
    "response = requests.get(base_url, params = parameters)\n",
    "response_json = response.json()\n"
   ]
  },
  {
   "cell_type": "code",
   "execution_count": null,
   "metadata": {
    "colab": {
     "base_uri": "https://localhost:8080/"
    },
    "id": "gFyWwljvyNyt",
    "outputId": "983b271d-0271-4dfc-f550-8a4d7df6f51c"
   },
   "outputs": [],
   "source": [
    "#I am 'pretty printing' the result with the indent and sort_keys options\n",
    "#print(json.dumps(response_json, indent=4, sort_keys=True))"
   ]
  },
  {
   "cell_type": "code",
   "execution_count": null,
   "metadata": {},
   "outputs": [],
   "source": [
    "#new pprint\n",
    "#pprint.pprint(response.content.decode())"
   ]
  },
  {
   "cell_type": "code",
   "execution_count": 11,
   "metadata": {
    "colab": {
     "base_uri": "https://localhost:8080/",
     "height": 374
    },
    "id": "5T7y6L4xvLxH",
    "outputId": "ff33ae10-71bd-4b98-bc51-f1f052df629f"
   },
   "outputs": [
    {
     "data": {
      "text/html": [
       "<div>\n",
       "<style scoped>\n",
       "    .dataframe tbody tr th:only-of-type {\n",
       "        vertical-align: middle;\n",
       "    }\n",
       "\n",
       "    .dataframe tbody tr th {\n",
       "        vertical-align: top;\n",
       "    }\n",
       "\n",
       "    .dataframe thead th {\n",
       "        text-align: right;\n",
       "    }\n",
       "</style>\n",
       "<table border=\"1\" class=\"dataframe\">\n",
       "  <thead>\n",
       "    <tr style=\"text-align: right;\">\n",
       "      <th></th>\n",
       "      <th>period</th>\n",
       "      <th>location</th>\n",
       "      <th>stateDescription</th>\n",
       "      <th>sectorid</th>\n",
       "      <th>sectorDescription</th>\n",
       "      <th>fueltypeid</th>\n",
       "      <th>fuelTypeDescription</th>\n",
       "      <th>generation</th>\n",
       "      <th>generation-units</th>\n",
       "    </tr>\n",
       "  </thead>\n",
       "  <tbody>\n",
       "    <tr>\n",
       "      <th>0</th>\n",
       "      <td>2021</td>\n",
       "      <td>TN</td>\n",
       "      <td>Tennessee</td>\n",
       "      <td>99</td>\n",
       "      <td>All Sectors</td>\n",
       "      <td>ALL</td>\n",
       "      <td>all fuels</td>\n",
       "      <td>79057.20942</td>\n",
       "      <td>thousand megawatthours</td>\n",
       "    </tr>\n",
       "    <tr>\n",
       "      <th>1</th>\n",
       "      <td>2021</td>\n",
       "      <td>MN</td>\n",
       "      <td>Minnesota</td>\n",
       "      <td>99</td>\n",
       "      <td>All Sectors</td>\n",
       "      <td>ALL</td>\n",
       "      <td>all fuels</td>\n",
       "      <td>59195.76872</td>\n",
       "      <td>thousand megawatthours</td>\n",
       "    </tr>\n",
       "    <tr>\n",
       "      <th>2</th>\n",
       "      <td>2021</td>\n",
       "      <td>OK</td>\n",
       "      <td>Oklahoma</td>\n",
       "      <td>99</td>\n",
       "      <td>All Sectors</td>\n",
       "      <td>ALL</td>\n",
       "      <td>all fuels</td>\n",
       "      <td>80754.58606</td>\n",
       "      <td>thousand megawatthours</td>\n",
       "    </tr>\n",
       "    <tr>\n",
       "      <th>3</th>\n",
       "      <td>2021</td>\n",
       "      <td>RI</td>\n",
       "      <td>Rhode Island</td>\n",
       "      <td>99</td>\n",
       "      <td>All Sectors</td>\n",
       "      <td>ALL</td>\n",
       "      <td>all fuels</td>\n",
       "      <td>9322.45120</td>\n",
       "      <td>thousand megawatthours</td>\n",
       "    </tr>\n",
       "    <tr>\n",
       "      <th>4</th>\n",
       "      <td>2021</td>\n",
       "      <td>NM</td>\n",
       "      <td>New Mexico</td>\n",
       "      <td>99</td>\n",
       "      <td>All Sectors</td>\n",
       "      <td>ALL</td>\n",
       "      <td>all fuels</td>\n",
       "      <td>35192.36528</td>\n",
       "      <td>thousand megawatthours</td>\n",
       "    </tr>\n",
       "  </tbody>\n",
       "</table>\n",
       "</div>"
      ],
      "text/plain": [
       "   period location stateDescription  sectorid sectorDescription fueltypeid  \\\n",
       "0    2021       TN        Tennessee        99       All Sectors        ALL   \n",
       "1    2021       MN        Minnesota        99       All Sectors        ALL   \n",
       "2    2021       OK         Oklahoma        99       All Sectors        ALL   \n",
       "3    2021       RI     Rhode Island        99       All Sectors        ALL   \n",
       "4    2021       NM       New Mexico        99       All Sectors        ALL   \n",
       "\n",
       "  fuelTypeDescription   generation        generation-units  \n",
       "0           all fuels  79057.20942  thousand megawatthours  \n",
       "1           all fuels  59195.76872  thousand megawatthours  \n",
       "2           all fuels  80754.58606  thousand megawatthours  \n",
       "3           all fuels   9322.45120  thousand megawatthours  \n",
       "4           all fuels  35192.36528  thousand megawatthours  "
      ]
     },
     "execution_count": 11,
     "metadata": {},
     "output_type": "execute_result"
    }
   ],
   "source": [
    "#Now I will take the json object (response_json) and push it into a new Pandas\n",
    "#dataframe\n",
    "response_dataframe = pd.DataFrame(response_json[\"response\"][\"data\"])\n",
    "response_dataframe.head()"
   ]
  },
  {
   "cell_type": "code",
   "execution_count": 12,
   "metadata": {
    "id": "ZTsN2elRwe9i"
   },
   "outputs": [],
   "source": [
    "#Export dataframe to .csv\n",
    "response_dataframe.to_csv('net_gen_by_state_2021.csv')"
   ]
  },
  {
   "cell_type": "code",
   "execution_count": null,
   "metadata": {},
   "outputs": [],
   "source": []
  }
 ],
 "metadata": {
  "colab": {
   "provenance": []
  },
  "kernelspec": {
   "display_name": "Python 3 (ipykernel)",
   "language": "python",
   "name": "python3"
  },
  "language_info": {
   "codemirror_mode": {
    "name": "ipython",
    "version": 3
   },
   "file_extension": ".py",
   "mimetype": "text/x-python",
   "name": "python",
   "nbconvert_exporter": "python",
   "pygments_lexer": "ipython3",
   "version": "3.9.13"
  }
 },
 "nbformat": 4,
 "nbformat_minor": 1
}
